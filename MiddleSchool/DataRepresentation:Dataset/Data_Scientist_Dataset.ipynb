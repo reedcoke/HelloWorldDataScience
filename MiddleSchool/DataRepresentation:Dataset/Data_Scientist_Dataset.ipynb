{
 "cells": [
  {
   "cell_type": "markdown",
   "metadata": {},
   "source": [
    "# Data Scientist Dataset#"
   ]
  },
  {
   "cell_type": "markdown",
   "metadata": {},
   "source": [
    "| Scientist \\#  | First Name    | Last Name | Age | Grade | Gender | Hobby/Interest |\n",
    "| :-----------: |:-------------:| :--------:| :-: | :---: | :----: | :------------: |\n",
    "| 1             | | | | | | |\n",
    "| 2             | | | | | | |\n",
    "| 3             | | | | | | |\n",
    "| 4             | | | | | | |\n",
    "| 5             | | | | | | |\n",
    "| 6             | | | | | | |\n",
    "| 7             | | | | | | |\n",
    "| 8             | | | | | | |"
   ]
  },
  {
   "cell_type": "code",
   "execution_count": null,
   "metadata": {
    "collapsed": true
   },
   "outputs": [],
   "source": []
  }
 ],
 "metadata": {
  "anaconda-cloud": {},
  "kernelspec": {
   "display_name": "Python [default]",
   "language": "python",
   "name": "python2"
  },
  "language_info": {
   "codemirror_mode": {
    "name": "ipython",
    "version": 2
   },
   "file_extension": ".py",
   "mimetype": "text/x-python",
   "name": "python",
   "nbconvert_exporter": "python",
   "pygments_lexer": "ipython2",
   "version": "2.7.12"
  }
 },
 "nbformat": 4,
 "nbformat_minor": 1
}
