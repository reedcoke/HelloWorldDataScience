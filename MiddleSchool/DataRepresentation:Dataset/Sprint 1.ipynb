{
 "cells": [
  {
   "cell_type": "markdown",
   "metadata": {},
   "source": [
    "# Sprint 1"
   ]
  },
  {
   "cell_type": "markdown",
   "metadata": {},
   "source": [
    "This week's sprint will continue helping you practice evaluating expressions. Please modify the table below to fill in the missing values. Try your best to fill in each blank cell just by thinking about it first, but do check every answer using the python interpreter below this paragraph. Also, don't be worried if you see something new - you can always use python to help you figure out what new things do. You are allowed to type any code you want into the python cell just below this paragraph to help you solve a problem!"
   ]
  },
  {
   "cell_type": "code",
   "execution_count": 1,
   "metadata": {
    "collapsed": false
   },
   "outputs": [
    {
     "name": "stdout",
     "output_type": "stream",
     "text": [
      "4\n",
      "<type 'int'>\n"
     ]
    }
   ],
   "source": [
    "print 2 + 2\n",
    "print type(2 + 2)"
   ]
  },
  {
   "cell_type": "markdown",
   "metadata": {},
   "source": [
    "| Row \\# | Expression                           | Value       | Type   |\n",
    "| :----: |:------------------------------------:| :----------:| :----: |\n",
    "| 1      | 2 + 2                                | 4           | int    |\n",
    "| 2      | \"butter\" + \"fly\"                     | \"butterfly\" | string |\n",
    "| 3      | 3.0 + 8.5                            |             |        |\n",
    "| 4      | 1 > 2                                |             |        |\n",
    "| 5      | 8 - 14                               |             |        |\n",
    "| 6      | \"me\" + \"at\"                          |             |        |\n",
    "| 7      | 1 == 1                               |             |        |\n",
    "| 8      | 4 \\*\\* 2                             |             |        |\n",
    "| 9      | \"apples\" == \"oranges\"                |             |        |\n",
    "| 10     | 15 / 2                               |             |        |\n",
    "| 11     | 15.0 / 2                             |             |        |\n",
    "| 12     | len(\"letters\")                       |             |        |\n",
    "| 13     | len(\"number of letters?\")            |             |        |\n",
    "| 14     | str(4)                               |             |        |\n",
    "| 15     | str(4) == \"4\"                        |             |        |\n",
    "| 16     | str(4) == 4                          |             |        |\n",
    "| 17     | \"butter\" * 2                         |             |        |\n",
    "| 18     | \" \"                                  |             |        |\n",
    "| 19     | len(\" \")                             |             |        |\n",
    "| 20     | 1 == True                            |             |        |\n",
    "| 21     | 2 == True                            |             |        |\n",
    "| 22     | -1 == False                          |             |        |\n",
    "| 23     | 0 == True                            |             |        |\n",
    "| 24     | \"hello\" == True                      |             |        |\n",
    "| 25     | \" \" == False                         |             |        |\n",
    "| 26     | \"\" == True                           |             |        |"
   ]
  },
  {
   "cell_type": "code",
   "execution_count": null,
   "metadata": {
    "collapsed": true
   },
   "outputs": [],
   "source": []
  }
 ],
 "metadata": {
  "kernelspec": {
   "display_name": "Python [default]",
   "language": "python",
   "name": "python2"
  },
  "language_info": {
   "codemirror_mode": {
    "name": "ipython",
    "version": 2
   },
   "file_extension": ".py",
   "mimetype": "text/x-python",
   "name": "python",
   "nbconvert_exporter": "python",
   "pygments_lexer": "ipython2",
   "version": "2.7.12"
  }
 },
 "nbformat": 4,
 "nbformat_minor": 1
}
