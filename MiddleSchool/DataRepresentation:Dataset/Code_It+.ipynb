{
 "cells": [
  {
   "cell_type": "markdown",
   "metadata": {},
   "source": [
    "# Code It+!"
   ]
  },
  {
   "cell_type": "markdown",
   "metadata": {},
   "source": [
    "<p>\n",
    "Almost all computer programs also have some form of <b>input</b>.\n",
    "Websites have buttons to click, Microsoft Word allows you to type, and an ATM machine has menus. Usually people run programs that can do more than one thing - input allows you to add <i>these two numbers</i> instead of 2 + 2.\n",
    "</p>\n",
    "\n",
    "<p>Today's <b>Code It+!</b> helps you learn one way of creating input in Python via the raw_input() function.</p>"
   ]
  },
  {
   "cell_type": "code",
   "execution_count": 1,
   "metadata": {
    "collapsed": false
   },
   "outputs": [],
   "source": [
    "name = \"Reed\"\n",
    "age = \"25\"\n",
    "home = \"Austin\"\n",
    "hobby = \"cooking\""
   ]
  },
  {
   "cell_type": "code",
   "execution_count": 14,
   "metadata": {
    "collapsed": false
   },
   "outputs": [
    {
     "name": "stdout",
     "output_type": "stream",
     "text": [
      "Hello! My name is Reed.\n",
      "I am 25.\n",
      "I am from Austin.\n",
      "I really like cooking.\n"
     ]
    }
   ],
   "source": [
    "print \"Hello! My name is \" + name + \".\"\n",
    "print \"I am \" + age + \".\"\n",
    "print \"I am from \" + home + \".\"\n",
    "print \"I really like \" + hobby + \".\""
   ]
  },
  {
   "cell_type": "markdown",
   "metadata": {
    "collapsed": true
   },
   "source": [
    "The above two cells are the same as the <b>Code It!</b>. However, they represent fixed input analogous to 2 + 2. Let's change the program to take flexible input. Run the code blocks below and see what happens. Then, change all the lines in the first of the two cells to take user input."
   ]
  },
  {
   "cell_type": "code",
   "execution_count": 2,
   "metadata": {
    "collapsed": false
   },
   "outputs": [
    {
     "name": "stdout",
     "output_type": "stream",
     "text": [
      "Enter your name: Reed\n",
      "Variables updated! ('Reed', '11', 'Dallas', 'soccer')\n"
     ]
    }
   ],
   "source": [
    "name = raw_input(\"Enter your name: \")\n",
    "age = \"11\" #Change me!\n",
    "home = \"Dallas\" #Change me!\n",
    "hobby = \"soccer\" #Change me!\n",
    "print \"Variables updated!\", (name, age, home, hobby)"
   ]
  },
  {
   "cell_type": "code",
   "execution_count": 3,
   "metadata": {
    "collapsed": false
   },
   "outputs": [
    {
     "name": "stdout",
     "output_type": "stream",
     "text": [
      "Hello! My name is Reed.\n",
      "I am 11.\n",
      "I am from Dallas.\n",
      "I really like soccer.\n"
     ]
    }
   ],
   "source": [
    "print \"Hello! My name is \" + name + \".\"\n",
    "print \"I am \" + age + \".\"\n",
    "print \"I am from \" + home + \".\"\n",
    "print \"I really like \" + hobby + \".\""
   ]
  }
 ],
 "metadata": {
  "anaconda-cloud": {},
  "kernelspec": {
   "display_name": "Python [default]",
   "language": "python",
   "name": "python2"
  },
  "language_info": {
   "codemirror_mode": {
    "name": "ipython",
    "version": 2
   },
   "file_extension": ".py",
   "mimetype": "text/x-python",
   "name": "python",
   "nbconvert_exporter": "python",
   "pygments_lexer": "ipython2",
   "version": "2.7.12"
  }
 },
 "nbformat": 4,
 "nbformat_minor": 1
}
