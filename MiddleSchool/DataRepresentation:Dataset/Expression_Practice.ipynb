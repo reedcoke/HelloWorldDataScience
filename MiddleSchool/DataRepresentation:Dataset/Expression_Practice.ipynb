{
 "cells": [
  {
   "cell_type": "markdown",
   "metadata": {},
   "source": [
    "# Expressions Practice"
   ]
  },
  {
   "cell_type": "markdown",
   "metadata": {},
   "source": [
    "This worksheet will help you practice evaluating expressions. Please modify the table below to fill in the missing values. Try your best to fill in each blank cell just by thinking about it first, but do check every answer using the python interpreter below this paragraph. Also, don't be worried if you see something new - you can always use python to help you figure out what new things do. You are allowed to type any code you want into the python cell just below this paragraph to help you solve a problem!"
   ]
  },
  {
   "cell_type": "code",
   "execution_count": 3,
   "metadata": {
    "collapsed": false
   },
   "outputs": [
    {
     "name": "stdout",
     "output_type": "stream",
     "text": [
      "4\n",
      "<type 'int'>\n"
     ]
    }
   ],
   "source": [
    "print 2 + 2\n",
    "print type(2 + 2)"
   ]
  },
  {
   "cell_type": "markdown",
   "metadata": {},
   "source": [
    "| Row \\# | Expression                           | Value       | Type   |\n",
    "| :----: |:------------------------------------:| :----------:| :----: |\n",
    "| 1      | 2 + 2                                | 4           | int    |\n",
    "| 2      | \"butter\" + \"fly\"                     | \"butterfly\" | string |\n",
    "| 3      | 5 \\*\\* 2                             |             |        |\n",
    "| 4      | 5.0 * 2                              |             |        |\n",
    "| 5      | 5 - 3.0                              |             |        |\n",
    "| 6      | 4 / 2                                |             |        |\n",
    "| 7      | 5 / 2                                |             |        |\n",
    "| 8      | 4.0 / 2                              |             |        |\n",
    "| 9      | 5.0 / 2                              |             |        |\n",
    "| 10     | 5 / 2.0                              |             |        |\n",
    "| 11     | 1 < 2                                |             |        |\n",
    "| 12     | 4 > 3 > 2                            |             |        |\n",
    "| 13     | 1 == 1                               |             |        |\n",
    "| 14     | 2 * \"hello\"                          |             |        |\n",
    "| 15     | 3.0 * \"hello\"                        |             |        |\n",
    "| 16     | \"4\"                                  |             |        |\n",
    "| 17     | int(\"4\")                             |             |        |\n",
    "| 18     | \"4\" * 4                              |             |        |\n",
    "| 19     | int(\"4\") * 4                         |             |        |\n",
    "| 20     | str(2) * \"happy\"                     |             |        |\n",
    "| 21     | float(5) / 2                         |             |        |\n",
    "| 22     | \"HELLO!\".lower()                     |             |        |\n",
    "| 23     | len(\"letters\")                       |             |        |\n",
    "| 24     | \"banana\".count(\"a\")                  |             |        |\n",
    "| 25     | \"banana.count(\"an\")                  |             |        |\n",
    "| 26     | \"pineapple\".replace(\"apple\", \"cone\") |             |        |"
   ]
  },
  {
   "cell_type": "code",
   "execution_count": null,
   "metadata": {
    "collapsed": true
   },
   "outputs": [],
   "source": []
  }
 ],
 "metadata": {
  "anaconda-cloud": {},
  "kernelspec": {
   "display_name": "Python [default]",
   "language": "python",
   "name": "python2"
  },
  "language_info": {
   "codemirror_mode": {
    "name": "ipython",
    "version": 2
   },
   "file_extension": ".py",
   "mimetype": "text/x-python",
   "name": "python",
   "nbconvert_exporter": "python",
   "pygments_lexer": "ipython2",
   "version": "2.7.12"
  }
 },
 "nbformat": 4,
 "nbformat_minor": 1
}
