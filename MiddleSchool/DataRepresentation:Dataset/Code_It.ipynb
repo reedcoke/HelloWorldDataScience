{
 "cells": [
  {
   "cell_type": "markdown",
   "metadata": {},
   "source": [
    "# Code It!"
   ]
  },
  {
   "cell_type": "markdown",
   "metadata": {},
   "source": [
    "<p>\n",
    "Almost all computer programs have some form of <b>output</b>.\n",
    "Websites show the page on your screen, Microsoft Word shows you the words you type, and an ATM machine gives you money. Usually people run programs because they want their computer to do, calculate, or create something and usually the computer <b>outputs</b> this result at the end of the program.\n",
    "</p>\n",
    "\n",
    "<p>Today's <b>Code It!</b> helps you learn one way of creating output in Python via the print function.</p>"
   ]
  },
  {
   "cell_type": "markdown",
   "metadata": {},
   "source": [
    "Hold down the shift key on your keyboard and press enter twice. You will see that this cell is now surrounded by a bigger box. If you press shift + enter one more time the big box will move down again. When you have a cell of text highlighted and press shift + enter, nothing happens. However, if you have a cell of code highlighted when you press shift + enter, the code will be run. Try pressing shift + enter two more times to run the code blocks below."
   ]
  },
  {
   "cell_type": "code",
   "execution_count": 5,
   "metadata": {
    "collapsed": false
   },
   "outputs": [],
   "source": [
    "name = \"Reed\"\n",
    "age = \"25\"\n",
    "home = \"Austin\"\n",
    "hobby = \"cooking\""
   ]
  },
  {
   "cell_type": "code",
   "execution_count": 6,
   "metadata": {
    "collapsed": false
   },
   "outputs": [
    {
     "name": "stdout",
     "output_type": "stream",
     "text": [
      "Hello! My name is Reed.\n",
      "I am 25.\n",
      "I am from Austin.\n",
      "I really like cooking.\n"
     ]
    }
   ],
   "source": [
    "print \"Hello! My name is \" + name + \".\"\n",
    "print \"I am \" + age + \".\"\n",
    "print \"I am from \" + home + \".\"\n",
    "print \"I really like \" + hobby + \".\""
   ]
  },
  {
   "cell_type": "markdown",
   "metadata": {
    "collapsed": true
   },
   "source": [
    "Now that you know how to run code, it's time to make some changes. Below I have copied the code cells again, but this time they are for you to play around with. As you can see, the information in the top of these two cells has changed, but the <b>output</b> commands in the second cell are the same. Use shift + enter to run these two cells. Is the result the same or different from the first two cells?"
   ]
  },
  {
   "cell_type": "code",
   "execution_count": 15,
   "metadata": {
    "collapsed": false
   },
   "outputs": [
    {
     "name": "stdout",
     "output_type": "stream",
     "text": [
      "Variables updated! ('Whitney', '11', 'Dallas', 'soccer')\n"
     ]
    }
   ],
   "source": [
    "name = \"Whitney\" #Change me!\n",
    "age = \"11\" #Change me!\n",
    "home = \"Dallas\" #Change me!\n",
    "hobby = \"soccer\" #Change me!\n",
    "print \"Variables updated!\", (name, age, home, hobby)"
   ]
  },
  {
   "cell_type": "code",
   "execution_count": 17,
   "metadata": {
    "collapsed": false
   },
   "outputs": [
    {
     "name": "stdout",
     "output_type": "stream",
     "text": [
      "Hello! My name is Whitney.\n",
      "I am 11.\n",
      "I am from Dallas.\n",
      "I really like soccer.\n"
     ]
    }
   ],
   "source": [
    "print \"Hello! My name is \" + name + \".\"\n",
    "print \"I am \" + age + \".\"\n",
    "print \"I am from \" + home + \".\"\n",
    "print \"I really like \" + hobby + \".\""
   ]
  },
  {
   "cell_type": "markdown",
   "metadata": {},
   "source": [
    "To complete today's <b>Code It!</b>, change the information in the upper of these two cells to be about you. Once you have changed it, run both of these cells again to get your output. If you finish early, feel free to add extra information in the first cell and change the second cell to add this information to your output!"
   ]
  }
 ],
 "metadata": {
  "anaconda-cloud": {},
  "kernelspec": {
   "display_name": "Python [default]",
   "language": "python",
   "name": "python2"
  },
  "language_info": {
   "codemirror_mode": {
    "name": "ipython",
    "version": 2
   },
   "file_extension": ".py",
   "mimetype": "text/x-python",
   "name": "python",
   "nbconvert_exporter": "python",
   "pygments_lexer": "ipython2",
   "version": "2.7.12"
  }
 },
 "nbformat": 4,
 "nbformat_minor": 1
}
