{
 "cells": [
  {
   "cell_type": "markdown",
   "metadata": {},
   "source": [
    "# Code It+!"
   ]
  },
  {
   "cell_type": "markdown",
   "metadata": {},
   "source": [
    "In this week's <b>Code It!</b> we looked at the values and types of <b>expressions</b>. In <b>Code It+!</b>, we will introduce you to some built-in tricks that Python can do with strings."
   ]
  },
  {
   "cell_type": "code",
   "execution_count": 3,
   "metadata": {
    "collapsed": false
   },
   "outputs": [
    {
     "name": "stdout",
     "output_type": "stream",
     "text": [
      "4\n",
      "<type 'int'>\n"
     ]
    }
   ],
   "source": [
    "print 2 + 2\n",
    "print type(2 + 2)"
   ]
  },
  {
   "cell_type": "markdown",
   "metadata": {},
   "source": [
    "| Row \\# | Expression                           | Value       | Type   |\n",
    "| :----: |:------------------------------------:| :----------:| :----: |\n",
    "| 1      | 2 + 2                                | 4           | int    |\n",
    "| 2      | \"butter\" + \"fly\"                     | \"butterfly\" | str    |\n",
    "| 3      | \"hello, world!\"[0]                   |             |        |\n",
    "| 4      | \"hello, world!\"[1]                   |             |        |\n",
    "| 5      | \"hello, world!\"[1:5]                 |             |        |\n",
    "| 6      | \"hello, world!\"[:10]                 |             |        |\n",
    "| 7      | \"hello, world!\"[:-2]                 |             |        |\n",
    "| 8      | \"hello, world!\"[:-4]                 |             |        |\n",
    "| 9      | \"j\" + \"hello, world!\"[1:]            |             |        |\n",
    "| 10     | \"hello, world!\"[:]                   |             |        |"
   ]
  },
  {
   "cell_type": "markdown",
   "metadata": {},
   "source": [
    "So, it turns out letters are actually strings by themselves and that longer strings are just composed of smaller strings!"
   ]
  },
  {
   "cell_type": "code",
   "execution_count": null,
   "metadata": {
    "collapsed": true
   },
   "outputs": [],
   "source": []
  }
 ],
 "metadata": {
  "anaconda-cloud": {},
  "kernelspec": {
   "display_name": "Python [default]",
   "language": "python",
   "name": "python2"
  },
  "language_info": {
   "codemirror_mode": {
    "name": "ipython",
    "version": 2
   },
   "file_extension": ".py",
   "mimetype": "text/x-python",
   "name": "python",
   "nbconvert_exporter": "python",
   "pygments_lexer": "ipython2",
   "version": "2.7.12"
  }
 },
 "nbformat": 4,
 "nbformat_minor": 1
}
