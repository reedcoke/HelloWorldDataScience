{
 "cells": [
  {
   "cell_type": "markdown",
   "metadata": {},
   "source": [
    "# Ship It!"
   ]
  },
  {
   "cell_type": "markdown",
   "metadata": {},
   "source": [
    "Today we talked about <b>variables</b> and <b>function calls</b>. We're going to put these two concepts together to perform a task as old as time itself: the Hokey Pokey."
   ]
  },
  {
   "cell_type": "markdown",
   "metadata": {},
   "source": [
    "For the uninitiated, the Hokey Pokey goes as follows:\n",
    "\n",
    ">You put your left hand in. You take your left hand out. You put your left hand in and you shake it all about. You do the hokey pokey and you turn yourself around, and that's what it's all about.\n",
    "\n",
    "The song repeats for left hand, right hand, left leg, right leg, and whole self. Your challenge is to write code using the functions described below to do the Hokey Pokey for your left and right hands."
   ]
  },
  {
   "cell_type": "code",
   "execution_count": 1,
   "metadata": {
    "collapsed": true
   },
   "outputs": [],
   "source": [
    "def put_in(body_part):\n",
    "    print \"You put your \" + body_part + \" in,\"\n",
    "    \n",
    "def take_out(body_part):\n",
    "    print \"You take your \" + body_part + \" out,\"\n",
    "    \n",
    "def rest_of_song():\n",
    "    print \"and you shake it all about. \\nYou do the hokey pokey and you turn yourself around and that's what it's all about.\""
   ]
  },
  {
   "cell_type": "markdown",
   "metadata": {},
   "source": [
    "| Function Name | Description           | Description of Arguments                       | Return Value |\n",
    "| :-----------: | :-------------------: | :--------------------------------------------: | :----------: |\n",
    "| put_in        | Puts a body part in   | 1 argument: body part to put in. String.       | None         |\n",
    "| take_out      | Takes a body part out | 1 argument: body part to take out. String.     | None         |\n",
    "| rest_of_song  | Finishes the song     | 0 arguments                                    | None         |\n",
    "\n",
    "It is up to you to create variables for your left and right hands"
   ]
  },
  {
   "cell_type": "code",
   "execution_count": null,
   "metadata": {
    "collapsed": true
   },
   "outputs": [],
   "source": []
  }
 ],
 "metadata": {
  "anaconda-cloud": {},
  "kernelspec": {
   "display_name": "Python [default]",
   "language": "python",
   "name": "python2"
  },
  "language_info": {
   "codemirror_mode": {
    "name": "ipython",
    "version": 2
   },
   "file_extension": ".py",
   "mimetype": "text/x-python",
   "name": "python",
   "nbconvert_exporter": "python",
   "pygments_lexer": "ipython2",
   "version": "2.7.12"
  }
 },
 "nbformat": 4,
 "nbformat_minor": 1
}
