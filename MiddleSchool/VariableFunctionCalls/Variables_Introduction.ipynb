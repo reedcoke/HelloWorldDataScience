{
 "cells": [
  {
   "cell_type": "markdown",
   "metadata": {},
   "source": [
    "# Variables"
   ]
  },
  {
   "cell_type": "markdown",
   "metadata": {},
   "source": [
    "> Aleisha has 12 stickers, Carlos has 10 stickers, and Mary has 2 stickers. Aleisha gives Carlos 4 stickers. Then, Carlos gives 6 stickers to Mary. Finally, Mary gives half of her stickers back to Aleisha. How many stickers does Aleisha have?"
   ]
  },
  {
   "cell_type": "markdown",
   "metadata": {},
   "source": [
    "## Step 1: Comments"
   ]
  },
  {
   "cell_type": "markdown",
   "metadata": {},
   "source": [
    "Comments help a programmer outline their code before they begin and make notes as they go. Any time you are working on a programming problem you should comment first as a way to write down your plan."
   ]
  },
  {
   "cell_type": "code",
   "execution_count": null,
   "metadata": {
    "collapsed": true
   },
   "outputs": [],
   "source": [
    "#Starting stickers\n",
    "#Aleisha gives Carlos 4 stickers\n",
    "#Carlos gives 6 stickers to Mary\n",
    "#Mary gives half her stickers to Aleisha\n",
    "#How many stickers does Aleisha have?"
   ]
  },
  {
   "cell_type": "markdown",
   "metadata": {},
   "source": [
    "## Step 2: Create variables to start from"
   ]
  },
  {
   "cell_type": "markdown",
   "metadata": {},
   "source": [
    "Now we want to create <b>variables</b>. These will <b>store</b> everyone's starting number of stickers and we will <b>modify</b> them during the program to keep track of changes in these numbers."
   ]
  },
  {
   "cell_type": "code",
   "execution_count": 13,
   "metadata": {
    "collapsed": true
   },
   "outputs": [],
   "source": [
    "#Starting stickers\n",
    "aleisha_stickers = 12\n",
    "carlos_stickers = 10\n",
    "mary_stickers = 2\n",
    "\n",
    "#Aleisha gives Carlos 4 stickers\n",
    "#Carlos gives 6 stickers to Mary\n",
    "#Mary gives half her stickers to Aleisha\n",
    "#How many stickers does Aleisha have?"
   ]
  },
  {
   "cell_type": "markdown",
   "metadata": {},
   "source": [
    "## Step 3: Write code for one comment at a time"
   ]
  },
  {
   "cell_type": "markdown",
   "metadata": {},
   "source": [
    "Next, we will write code to show Aleisha giving Carlos 4 stickers."
   ]
  },
  {
   "cell_type": "code",
   "execution_count": 14,
   "metadata": {
    "collapsed": true
   },
   "outputs": [],
   "source": [
    "#Aleisha gives Carlos 4 stickers\n",
    "aleisha_to_carlos = 4\n",
    "aleisha_stickers = aleisha_stickers - aleisha_to_carlos\n",
    "carlos_stickers = carlos_stickers + aleisha_to_carlos"
   ]
  },
  {
   "cell_type": "markdown",
   "metadata": {},
   "source": [
    "Now we do the same for the rest of our comments, add <b>output</b> to answer the question at the end, and we are done!"
   ]
  },
  {
   "cell_type": "code",
   "execution_count": 15,
   "metadata": {
    "collapsed": false
   },
   "outputs": [
    {
     "name": "stdout",
     "output_type": "stream",
     "text": [
      "Aleisha has 12 stickers\n"
     ]
    }
   ],
   "source": [
    "#Carlos gives 6 stickers to Mary\n",
    "carlos_to_mary = 6\n",
    "carlos_stickers = carlos_stickers - carlos_to_mary\n",
    "mary_stickers = mary_stickers + carlos_to_mary\n",
    "\n",
    "#Mary gives half her stickers to Aleisha\n",
    "mary_to_aleisha = mary_stickers / 2\n",
    "mary_stickers = mary_stickers - mary_to_aleisha\n",
    "aleisha_stickers = aleisha_stickers + mary_to_aleisha\n",
    "\n",
    "#How many stickers does Aleisha have?\n",
    "print \"Aleisha has \" + str(aleisha_stickers) + \" stickers\""
   ]
  },
  {
   "cell_type": "markdown",
   "metadata": {},
   "source": [
    "The whole program is shown below."
   ]
  },
  {
   "cell_type": "code",
   "execution_count": 16,
   "metadata": {
    "collapsed": false
   },
   "outputs": [
    {
     "name": "stdout",
     "output_type": "stream",
     "text": [
      "Aleisha has 12 stickers\n"
     ]
    }
   ],
   "source": [
    "#Starting stickers\n",
    "aleisha_stickers = 12\n",
    "carlos_stickers = 10\n",
    "mary_stickers = 2\n",
    "\n",
    "#Aleisha gives Carlos 4 stickers\n",
    "aleisha_to_carlos = 4\n",
    "aleisha_stickers = aleisha_stickers - aleisha_to_carlos\n",
    "carlos_stickers = carlos_stickers + aleisha_to_carlos\n",
    "\n",
    "#Carlos gives 6 stickers to Mary\n",
    "carlos_to_mary = 6\n",
    "carlos_stickers = carlos_stickers - carlos_to_mary\n",
    "mary_stickers = mary_stickers + carlos_to_mary\n",
    "\n",
    "#Mary gives half her stickers to Aleisha\n",
    "mary_to_aleisha = mary_stickers / 2\n",
    "mary_stickers = mary_stickers - mary_to_aleisha\n",
    "aleisha_stickers = aleisha_stickers + mary_to_aleisha\n",
    "\n",
    "#How many stickers does Aleisha have?\n",
    "print \"Aleisha has \" + str(aleisha_stickers) + \" stickers\""
   ]
  },
  {
   "cell_type": "markdown",
   "metadata": {},
   "source": [
    "Lastly, you can use print and print type() to examine any variable at any point in the program, just like we have been doing with expressions."
   ]
  },
  {
   "cell_type": "code",
   "execution_count": 17,
   "metadata": {
    "collapsed": false
   },
   "outputs": [
    {
     "name": "stdout",
     "output_type": "stream",
     "text": [
      "12\n",
      "<type 'int'>\n"
     ]
    }
   ],
   "source": [
    "#What is the value of the aleisha_stickers variable?\n",
    "print aleisha_stickers\n",
    "\n",
    "#What is the type of the value in the aleisha_stickers variable?\n",
    "print type(aleisha_stickers)"
   ]
  },
  {
   "cell_type": "code",
   "execution_count": null,
   "metadata": {
    "collapsed": true
   },
   "outputs": [],
   "source": []
  }
 ],
 "metadata": {
  "anaconda-cloud": {},
  "kernelspec": {
   "display_name": "Python [default]",
   "language": "python",
   "name": "python2"
  },
  "language_info": {
   "codemirror_mode": {
    "name": "ipython",
    "version": 2
   },
   "file_extension": ".py",
   "mimetype": "text/x-python",
   "name": "python",
   "nbconvert_exporter": "python",
   "pygments_lexer": "ipython2",
   "version": "2.7.12"
  }
 },
 "nbformat": 4,
 "nbformat_minor": 1
}
