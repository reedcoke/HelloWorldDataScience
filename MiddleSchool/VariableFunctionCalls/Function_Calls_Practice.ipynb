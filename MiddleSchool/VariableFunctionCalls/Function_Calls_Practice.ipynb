{
 "cells": [
  {
   "cell_type": "markdown",
   "metadata": {},
   "source": [
    "# Function Calls"
   ]
  },
  {
   "cell_type": "markdown",
   "metadata": {},
   "source": [
    "At the start of this file is a big chunk of code that provides the <b>function definitions</b>. If you are stuck on a problem, you are welcome to try to read the definitions but some of them are intentionally written to be hard to understand to encourage you to <b>call</b> them correctly without knowing exactly how they work."
   ]
  },
  {
   "cell_type": "code",
   "execution_count": 9,
   "metadata": {
    "collapsed": true
   },
   "outputs": [],
   "source": [
    "def capitalize(word):\n",
    "    return word.capitalize()\n",
    "\n",
    "def uppercase(word):\n",
    "    return word.upper()\n",
    "\n",
    "def lowercase(word):\n",
    "    return word.lower()\n",
    "\n",
    "def count_spaces(word):\n",
    "    return sum([letter == ' ' for letter in word])\n",
    "\n",
    "def count_uppercase_letters(word):\n",
    "    return sum([letter.isupper() for letter in word])\n",
    "\n",
    "def is_prime(number):\n",
    "    for i in range(2, number):\n",
    "        if number % i == 0:\n",
    "            return False\n",
    "    return True\n",
    "\n",
    "def is_even(number):\n",
    "    return number % 2 == 0\n",
    "\n",
    "def add_two(number):\n",
    "    return number + 2\n",
    "\n",
    "def divide_by_two(number):\n",
    "    return number / 2\n",
    "\n",
    "def get_user_response(message):\n",
    "    return raw_input(message)\n",
    "\n",
    "def values_match(value1, value2):\n",
    "    return value1 == value2"
   ]
  },
  {
   "cell_type": "markdown",
   "metadata": {},
   "source": [
    "| Function name         | Description                                   | Description of arguments | Description of return values |\n",
    "|:---------------------:|:---------------------------------------------:|:-----------------------------:|:----------------------------:|\n",
    "|capitalize             |capitalizes the first letter of a string       | the string to be capitalized  | the capitalized string|\n",
    "|uppercase              |capitalizes all letters in a string            | the string to be capitalized  | the capitalized string|\n",
    "|lowercase              |uncapitalizes all letters in a string          | the string to be uncapitalized| the uncapitalized string|\n",
    "|count_spaces           |counts how many spaces are in a string         | the string to count spaces in | the integer number of spaces |\n",
    "|count_uppercase_letters|counts how many capital letters are in a string| the string to count caps in   | the integer number of capital letters |\n",
    "|is_prime               |tells you if a number is prime                 | the integer to check          | <i>True</i> if the argument was prime, else <i>False</i> |\n",
    "|is-even                |tells you if a number is even                  | the integer to check          | <i>True</i> if the integer argument was even, else <i>False</i> |\n",
    "|add_two                |adds two to a number                           | the integer to add to         | the integer after the adding |\n",
    "|divide_by_two          |divides a number by two                        | the integer to divide         | the integer after division |\n",
    "|get_user_response      |asks the user to enter a response to a message | the string message            | the user's string response |\n",
    "|values_match           |tells you if two values match                  | the two values, any type      | <i>True</i> if the values matched, else <i>False</i> |"
   ]
  },
  {
   "cell_type": "markdown",
   "metadata": {},
   "source": [
    "### Challenge 1:"
   ]
  },
  {
   "cell_type": "code",
   "execution_count": 2,
   "metadata": {
    "collapsed": false
   },
   "outputs": [
    {
     "name": "stdout",
     "output_type": "stream",
     "text": [
      "2\n"
     ]
    }
   ],
   "source": [
    "stickers = 2\n",
    "#Call one or more functions so that stickers is divided by two\n",
    "print stickers"
   ]
  },
  {
   "cell_type": "markdown",
   "metadata": {},
   "source": [
    "### Challenge 2:"
   ]
  },
  {
   "cell_type": "code",
   "execution_count": 3,
   "metadata": {
    "collapsed": false
   },
   "outputs": [
    {
     "name": "stdout",
     "output_type": "stream",
     "text": [
      "hELLO\n"
     ]
    }
   ],
   "source": [
    "greeting = \"hELLO\"\n",
    "#Call one or more functions so that greeting equals \"Hello\"\n",
    "print greeting"
   ]
  },
  {
   "cell_type": "markdown",
   "metadata": {},
   "source": [
    "### Challenge 3:"
   ]
  },
  {
   "cell_type": "code",
   "execution_count": 6,
   "metadata": {
    "collapsed": false
   },
   "outputs": [
    {
     "name": "stdout",
     "output_type": "stream",
     "text": [
      "0\n"
     ]
    }
   ],
   "source": [
    "phrase = \"EaSy TO rEAd\"\n",
    "lowercase_letters = 0\n",
    "#Call one or more functions so that lowercase_letters equals the number of lowercase letters in phrase\n",
    "print lowerLetters"
   ]
  },
  {
   "cell_type": "markdown",
   "metadata": {},
   "source": [
    "### Challenge 4:"
   ]
  },
  {
   "cell_type": "code",
   "execution_count": 11,
   "metadata": {
    "collapsed": false
   },
   "outputs": [
    {
     "name": "stdout",
     "output_type": "stream",
     "text": [
      "False\n"
     ]
    }
   ],
   "source": [
    "user_name = \"\"\n",
    "madison_name = \"Madison\"\n",
    "names_match = False\n",
    "#Call one or more functions so that names_match is True if the user enters the same name as Madison and False otherwise\n",
    "print names_match"
   ]
  },
  {
   "cell_type": "markdown",
   "metadata": {},
   "source": [
    "### Challenge 5:"
   ]
  },
  {
   "cell_type": "code",
   "execution_count": 1,
   "metadata": {
    "collapsed": false
   },
   "outputs": [
    {
     "name": "stdout",
     "output_type": "stream",
     "text": [
      "False\n"
     ]
    }
   ],
   "source": [
    "user_favorite_food = \"\"\n",
    "favorite_food = \"sushi\"\n",
    "foods_match = False\n",
    "#Call one of more functions so that foods_match is True if the user enters the same favorite food as favorite_food and false otherwise\n",
    "print foods_match"
   ]
  },
  {
   "cell_type": "code",
   "execution_count": null,
   "metadata": {
    "collapsed": true
   },
   "outputs": [],
   "source": []
  }
 ],
 "metadata": {
  "anaconda-cloud": {},
  "kernelspec": {
   "display_name": "Python [default]",
   "language": "python",
   "name": "python2"
  },
  "language_info": {
   "codemirror_mode": {
    "name": "ipython",
    "version": 2
   },
   "file_extension": ".py",
   "mimetype": "text/x-python",
   "name": "python",
   "nbconvert_exporter": "python",
   "pygments_lexer": "ipython2",
   "version": "2.7.12"
  }
 },
 "nbformat": 4,
 "nbformat_minor": 1
}
