{
 "cells": [
  {
   "cell_type": "markdown",
   "metadata": {},
   "source": [
    "# Function Calls"
   ]
  },
  {
   "cell_type": "markdown",
   "metadata": {},
   "source": [
    "At the start of this file is a big chunk of code that provides the <b>function definitions</b>. If you are stuck on a problem, you are welcome to try to read the definitions but some of them are intentionally written to be hard to understand to encourage you to <b>call</b> them correctly without knowing exactly how they work. It is very important that you press shift + enter with the <b>function definitions</b> selected or else your code will not run because the functions will not be defined."
   ]
  },
  {
   "cell_type": "code",
   "execution_count": 9,
   "metadata": {
    "collapsed": true
   },
   "outputs": [],
   "source": [
    "def capitalize(word):\n",
    "    return word.capitalize()\n",
    "\n",
    "def uppercase(word):\n",
    "    return word.upper()\n",
    "\n",
    "def lowercase(word):\n",
    "    return word.lower()\n",
    "\n",
    "def count_spaces(word):\n",
    "    return sum([letter == ' ' for letter in word])\n",
    "\n",
    "def count_uppercase_letters(word):\n",
    "    return sum([letter.isupper() for letter in word])\n",
    "\n",
    "def is_prime(number):\n",
    "    for i in range(2, number):\n",
    "        if number % i == 0:\n",
    "            return False\n",
    "    return True\n",
    "\n",
    "def is_even(number):\n",
    "    return number % 2 == 0\n",
    "\n",
    "def add_two(number):\n",
    "    return number + 2\n",
    "\n",
    "def divide_by_two(number):\n",
    "    return number / 2\n",
    "\n",
    "def get_user_name():\n",
    "    return raw_input(\"Enter your name: \")\n",
    "\n",
    "def values_match(value1, value2):\n",
    "    return value1 == value2"
   ]
  },
  {
   "cell_type": "markdown",
   "metadata": {},
   "source": [
    "* Table describing the functions"
   ]
  },
  {
   "cell_type": "markdown",
   "metadata": {},
   "source": [
    "### Challenge 1:"
   ]
  },
  {
   "cell_type": "code",
   "execution_count": 2,
   "metadata": {
    "collapsed": false
   },
   "outputs": [
    {
     "name": "stdout",
     "output_type": "stream",
     "text": [
      "2\n"
     ]
    }
   ],
   "source": [
    "stickers = 2\n",
    "#Call one or more functions so that stickers is divided by two\n",
    "print stickers"
   ]
  },
  {
   "cell_type": "markdown",
   "metadata": {},
   "source": [
    "### Challenge 2:"
   ]
  },
  {
   "cell_type": "code",
   "execution_count": 3,
   "metadata": {
    "collapsed": false
   },
   "outputs": [
    {
     "name": "stdout",
     "output_type": "stream",
     "text": [
      "hELLO\n"
     ]
    }
   ],
   "source": [
    "greeting = \"hELLO\"\n",
    "#Call one or more functions so that greeting equals \"Hello\"\n",
    "print greeting"
   ]
  },
  {
   "cell_type": "markdown",
   "metadata": {},
   "source": [
    "### Challenge 3:"
   ]
  },
  {
   "cell_type": "code",
   "execution_count": 6,
   "metadata": {
    "collapsed": false
   },
   "outputs": [
    {
     "name": "stdout",
     "output_type": "stream",
     "text": [
      "0\n"
     ]
    }
   ],
   "source": [
    "phrase = \"EaSy TO rEAd\"\n",
    "lowercase_letters = 0\n",
    "#Call one or more functions so that lowercase_letters equals the number of lowercase letters in phrase\n",
    "print lowerLetters"
   ]
  },
  {
   "cell_type": "markdown",
   "metadata": {},
   "source": [
    "### Challenge 4:"
   ]
  },
  {
   "cell_type": "code",
   "execution_count": 11,
   "metadata": {
    "collapsed": false
   },
   "outputs": [
    {
     "name": "stdout",
     "output_type": "stream",
     "text": [
      "False\n"
     ]
    }
   ],
   "source": [
    "user_name = \"\"\n",
    "madison_name = \"Madison\"\n",
    "names_match = False\n",
    "#Call one or more functions so that names_match is True if the user enters the same name as Madison and False otherwise\n",
    "print names_match"
   ]
  },
  {
   "cell_type": "markdown",
   "metadata": {},
   "source": [
    "### Challenge 5:"
   ]
  },
  {
   "cell_type": "code",
   "execution_count": 13,
   "metadata": {
    "collapsed": false
   },
   "outputs": [
    {
     "name": "stdout",
     "output_type": "stream",
     "text": [
      "False\n"
     ]
    }
   ],
   "source": [
    "user_favorite_food = \"\"\n",
    "favorite_food = \"sushi\"\n",
    "foods_match = False\n",
    "#Call one of more functions so that foods_match is True if the user enters the same favorite food as favorite_food and false otherwise\n",
    "#It is ok if the user would see a message that might surprise them in this context\n",
    "print foods_match"
   ]
  },
  {
   "cell_type": "code",
   "execution_count": null,
   "metadata": {
    "collapsed": true
   },
   "outputs": [],
   "source": []
  }
 ],
 "metadata": {
  "kernelspec": {
   "display_name": "Python [default]",
   "language": "python",
   "name": "python2"
  },
  "language_info": {
   "codemirror_mode": {
    "name": "ipython",
    "version": 2
   },
   "file_extension": ".py",
   "mimetype": "text/x-python",
   "name": "python",
   "nbconvert_exporter": "python",
   "pygments_lexer": "ipython2",
   "version": "2.7.12"
  }
 },
 "nbformat": 4,
 "nbformat_minor": 1
}
