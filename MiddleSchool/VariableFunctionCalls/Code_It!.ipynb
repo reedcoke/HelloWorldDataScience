{
 "cells": [
  {
   "cell_type": "markdown",
   "metadata": {},
   "source": [
    "# Code It!"
   ]
  },
  {
   "cell_type": "markdown",
   "metadata": {},
   "source": [
    "Last week we talked about <b>data types</b> and <b>expressions</b>. We'll start the <b>Code It!</b> with a quick review."
   ]
  },
  {
   "cell_type": "code",
   "execution_count": 3,
   "metadata": {
    "collapsed": false
   },
   "outputs": [
    {
     "name": "stdout",
     "output_type": "stream",
     "text": [
      "4\n",
      "<type 'int'>\n"
     ]
    }
   ],
   "source": [
    "print 2 + 2\n",
    "print type(2 + 2)"
   ]
  },
  {
   "cell_type": "markdown",
   "metadata": {},
   "source": [
    "| Row \\# | Expression                           | Value       | Type   |\n",
    "| :----: |:------------------------------------:| :----------:| :----: |\n",
    "| 1      | 2 + 2                                | 4           | int    |\n",
    "| 2      | \"butter\" + \"fly\"                     | \"butterfly\" | string |\n",
    "| 3      | \"hello\" * 2                          |             |        |\n",
    "| 4      | 5.0 * 2                              |             |        |\n",
    "| 5      | 5 - 3.0                              |             |        |\n",
    "| 6      | 4 / 2                                |             |        |\n",
    "| 7      | 5 / 2                                |             |        |\n",
    "| 8      | 4.0 / 2                              |             |        |\n",
    "| 9      | 5.0 / 2                              |             |        |\n",
    "| 10     | 1 == 2                               |             |        |"
   ]
  },
  {
   "cell_type": "markdown",
   "metadata": {},
   "source": []
  },
  {
   "cell_type": "code",
   "execution_count": null,
   "metadata": {
    "collapsed": true
   },
   "outputs": [],
   "source": []
  }
 ],
 "metadata": {
  "anaconda-cloud": {},
  "kernelspec": {
   "display_name": "Python [default]",
   "language": "python",
   "name": "python2"
  },
  "language_info": {
   "codemirror_mode": {
    "name": "ipython",
    "version": 2
   },
   "file_extension": ".py",
   "mimetype": "text/x-python",
   "name": "python",
   "nbconvert_exporter": "python",
   "pygments_lexer": "ipython2",
   "version": "2.7.12"
  }
 },
 "nbformat": 4,
 "nbformat_minor": 1
}
