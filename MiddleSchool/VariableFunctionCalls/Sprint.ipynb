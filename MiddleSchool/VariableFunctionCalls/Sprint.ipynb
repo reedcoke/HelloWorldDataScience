{
 "cells": [
  {
   "cell_type": "markdown",
   "metadata": {},
   "source": [
    "# Sprint 2"
   ]
  },
  {
   "cell_type": "markdown",
   "metadata": {},
   "source": [
    "There are special types of <b>functions</b> called <b>methods</b> that look a little different but behave almost the same."
   ]
  },
  {
   "cell_type": "code",
   "execution_count": 1,
   "metadata": {
    "collapsed": true
   },
   "outputs": [],
   "source": [
    "def capitalize(string):\n",
    "    return string.capitalize()"
   ]
  },
  {
   "cell_type": "markdown",
   "metadata": {},
   "source": [
    "Below is an example of a <b>call</b> to the capitalize() function"
   ]
  },
  {
   "cell_type": "code",
   "execution_count": 2,
   "metadata": {
    "collapsed": false
   },
   "outputs": [
    {
     "data": {
      "text/plain": [
       "'Hello'"
      ]
     },
     "execution_count": 2,
     "metadata": {},
     "output_type": "execute_result"
    }
   ],
   "source": [
    "oldString = \"hello\"\n",
    "newString = capitalize(oldString)\n",
    "print(oldString, newString)"
   ]
  },
  {
   "cell_type": "markdown",
   "metadata": {},
   "source": [
    "Below is an example of a <b>call</b> to the capitalize() method that is part of the string class."
   ]
  },
  {
   "cell_type": "code",
   "execution_count": 3,
   "metadata": {
    "collapsed": false
   },
   "outputs": [
    {
     "data": {
      "text/plain": [
       "'Hello'"
      ]
     },
     "execution_count": 3,
     "metadata": {},
     "output_type": "execute_result"
    }
   ],
   "source": [
    "oldString = \"hello\"\n",
    "newString = oldString.capitalize()\n",
    "print(oldString, newString)"
   ]
  },
  {
   "cell_type": "markdown",
   "metadata": {},
   "source": [
    "You can see they produce the same resulting value, but while the <b>function</b> has the string as an <b>argument</b>, the <b>method</b> uses the . (dot) operator and takes no <b>arguments</b>. The dot tells python to work on the string \"hello\". In this sprint we will be solving problems using <b>methods</b> instead of <b>functions</b>. Note that some of the methods below do takes <b>arguments</b>, just like a <b>function</b>."
   ]
  },
  {
   "cell_type": "markdown",
   "metadata": {},
   "source": [
    "### List of methods"
   ]
  },
  {
   "cell_type": "markdown",
   "metadata": {},
   "source": [
    "* .capitalize()\n",
    "Capitalizes first letter of string\n",
    "\n",
    "* .count(small_str)\n",
    "Counts the number of times small_str appears in the bigger string\n",
    "\n",
    "* .endswith(ending_str)\n",
    "Returns True if the bigger string ends with ending_str\n",
    "\n",
    "* .find(small_str)\n",
    "Returns the number of the first place where small_str appears inside the bigger string. Returns -1 if small_str never appears. For example: \"separate\".find(\"rat\") would return 4 because \"rat\" appears starting at the 4th letter of \"separate\".\n",
    "\n",
    "* .isalpha()\n",
    "Returns true if string has at least 1 character and all characters are alphabetic (a-z) and false otherwise.\n",
    "\n",
    "\n",
    "* .isdigit()\n",
    "Returns true if string contains only digits and false otherwise.\n",
    "\n",
    "\t\n",
    "* .islower()\n",
    "Returns true if string has at least 1 cased character and all cased characters are in lowercase and false otherwise.\n",
    "\n",
    "* .isupper()\n",
    "Returns true if string has at least one cased character and all cased characters are in uppercase and false otherwise.\n",
    "\n",
    "* .lower()\n",
    "Converts all uppercase letters in string to lowercase.\n",
    "\n",
    "* .replace(old_str, new_str)\n",
    "Replaces all occurrences of old_str with new_str, all inside of the bigger string.\n",
    "\n",
    "* .startswith(starting_str)\n",
    "Returns True if the bigger string starts with starting_str\n",
    "\n",
    "* .upper()\n",
    "Converts lowercase letters in string to uppercase."
   ]
  },
  {
   "cell_type": "markdown",
   "metadata": {},
   "source": [
    "## Challenge 1"
   ]
  },
  {
   "cell_type": "code",
   "execution_count": 10,
   "metadata": {
    "collapsed": false
   },
   "outputs": [
    {
     "name": "stdout",
     "output_type": "stream",
     "text": [
      "False\n"
     ]
    }
   ],
   "source": [
    "test_str = \"catacomb\"\n",
    "start = False\n",
    "#Call one or more methods to change the value of start to True if test_str starts with \"cat\" and False otherwise\n",
    "print(start)"
   ]
  },
  {
   "cell_type": "markdown",
   "metadata": {},
   "source": [
    "## Challenge 2"
   ]
  },
  {
   "cell_type": "code",
   "execution_count": 9,
   "metadata": {
    "collapsed": false
   },
   "outputs": [
    {
     "name": "stdout",
     "output_type": "stream",
     "text": [
      "pineapple\n"
     ]
    }
   ],
   "source": [
    "pine = \"pineapple\"\n",
    "#Call one or more methods to change the value of pine to be \"pinecone\"\n",
    "print(pine)"
   ]
  },
  {
   "cell_type": "markdown",
   "metadata": {},
   "source": [
    "## Challenge 3"
   ]
  },
  {
   "cell_type": "code",
   "execution_count": 8,
   "metadata": {
    "collapsed": false
   },
   "outputs": [
    {
     "name": "stdout",
     "output_type": "stream",
     "text": [
      "True\n"
     ]
    }
   ],
   "source": [
    "i_in_str = True\n",
    "test_str = \"team\"\n",
    "#Call one of more methods so that i_in_str is True if there is an 'i' in test_str and False otherwise\n",
    "#You may write code other than method calls for this problem\n",
    "print(i_in_str)\n",
    "\n",
    "#Hint: If you are struggling with this one, run the two commented lines below\n",
    "#are_equal = (1 == 2)\n",
    "#print(are_equal)"
   ]
  },
  {
   "cell_type": "code",
   "execution_count": null,
   "metadata": {
    "collapsed": true
   },
   "outputs": [],
   "source": []
  }
 ],
 "metadata": {
  "anaconda-cloud": {},
  "kernelspec": {
   "display_name": "Python [default]",
   "language": "python",
   "name": "python2"
  },
  "language_info": {
   "codemirror_mode": {
    "name": "ipython",
    "version": 2
   },
   "file_extension": ".py",
   "mimetype": "text/x-python",
   "name": "python",
   "nbconvert_exporter": "python",
   "pygments_lexer": "ipython2",
   "version": "2.7.12"
  }
 },
 "nbformat": 4,
 "nbformat_minor": 1
}
