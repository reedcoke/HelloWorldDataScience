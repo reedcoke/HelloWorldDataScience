{
 "cells": [
  {
   "cell_type": "markdown",
   "metadata": {},
   "source": [
    "# Functions"
   ]
  },
  {
   "cell_type": "markdown",
   "metadata": {},
   "source": [
    "> Eric has \\$5, Lilly has \\$13, and Rahul has \\$7. Rahul gives \\$2 to Eric. Later, he lets Eric borrow all the money he has left. Eric spends all his money. Then, Lilly gives half her money to Eric. Eric gives Rahul back \\$5. How much money do Eric, Lilly, and Rahul have?"
   ]
  },
  {
   "cell_type": "raw",
   "metadata": {},
   "source": [
    "Your solution to this problem probably looks something like this:"
   ]
  },
  {
   "cell_type": "code",
   "execution_count": 11,
   "metadata": {
    "collapsed": false
   },
   "outputs": [
    {
     "name": "stdout",
     "output_type": "stream",
     "text": [
      "Eric has $1.5\n",
      "Lilly has $6.5\n",
      "Rahul has $5.0\n"
     ]
    }
   ],
   "source": [
    "#Starting money\n",
    "eric_money = 5.0\n",
    "lilly_money = 13.0\n",
    "rahul_money = 7.0\n",
    "\n",
    "#Rahul gives $2 to Eric\n",
    "rahul_to_eric = 2.0\n",
    "rahul_money = rahul_money - rahul_to_eric\n",
    "eric_money = ashley_money + rahul_to_eric\n",
    "\n",
    "#Eric borrows all of Rahul's money\n",
    "rahul_to_eric = rahul_money\n",
    "rahul_money = rahul_money - rahul_to_eric\n",
    "eric_money = eric_money + rahul_to_eric\n",
    "\n",
    "#Eric spends all his money\n",
    "eric_money = eric_money - eric_money\n",
    "\n",
    "#Lilly gives half her money to Eric\n",
    "lilly_to_eric = lilly_money / 2.0\n",
    "lilly_money = lilly_money - lilly_to_eric\n",
    "eric_money = eric_money + lilly_to_eric\n",
    "\n",
    "#Eric gives Rahul back the same amount he borrowed earlier\n",
    "eric_to_rahul = 5\n",
    "eric_money = eric_money - eric_to_rahul\n",
    "rahul_money = rahul_money + eric_to_rahul\n",
    "\n",
    "#How much money do Eric, Lilly, and Rahul have?\n",
    "print \"Eric has $\" + str(eric_money)\n",
    "print \"Lilly has $\" + str(lilly_money)\n",
    "print \"Rahul has $\" + str(rahul_money)"
   ]
  },
  {
   "cell_type": "markdown",
   "metadata": {},
   "source": [
    "This is great and answers the question, but it's kind of a lot of code. We are going to use a <b>function</b> to simplify our code. While a <b>variable</b> allows you to reuse a value, a <b>function</b> allows you to reuse one or more lines of code. Below is an example function."
   ]
  },
  {
   "cell_type": "code",
   "execution_count": 13,
   "metadata": {
    "collapsed": true
   },
   "outputs": [],
   "source": [
    "def give(giver_amount, taker_amount, amount_to_give):\n",
    "    giver_amount = giver_amount - amount_to_give\n",
    "    taker_amount = taker_amount + amount_to_give\n",
    "    return giver_amount, taker_amount"
   ]
  },
  {
   "cell_type": "markdown",
   "metadata": {},
   "source": [
    "We aren't going to worry about how to make our own functions right now, but here is some language we will use to describe this function:\n",
    "\n",
    "1. The function is named <b>give</b>\n",
    "2. The function takes three int <b>arguments</b>: giver_amount, taker_amount, and amount_to_give IN THAT ORDER\n",
    "3. The function returns two int <b>values</b>: giver_amount and taker_amount IN THAT ORDER\n",
    "\n",
    "This tells us everything we need to know to use, or <b>call</b>, this function. We need to give it three pieces of information, or <b>arguments</b>, and it will gives us back two values. Below is an example."
   ]
  },
  {
   "cell_type": "markdown",
   "metadata": {},
   "source": [
    "In just a moment we will do an activity where you will be calling functions, but first here is the completed activity from before using our new <b>give</b> function. Notice how much easier it is to understand. Also notice that we can use <b>expressions</b> as well as <b>variables</b> for <b>function arguments</b>"
   ]
  },
  {
   "cell_type": "code",
   "execution_count": 14,
   "metadata": {
    "collapsed": false
   },
   "outputs": [
    {
     "name": "stdout",
     "output_type": "stream",
     "text": [
      "Eric has $1.5\n",
      "Lilly has $6.5\n",
      "Rahul has $5.0\n"
     ]
    }
   ],
   "source": [
    "#Starting money\n",
    "eric_money = 5.0\n",
    "lilly_money = 13.0\n",
    "rahul_money = 7.0\n",
    "\n",
    "#Rahul gives $2 to Eric\n",
    "rahul_money, eric_money = give(rahul_money, eric_money, 2.0)\n",
    "\n",
    "#Eric borrows all of Rahul's money\n",
    "rahul_money, eric_money = give(rahul_money, eric_money, rahul_money)\n",
    "\n",
    "#Eric spends all his money\n",
    "eric_money = eric_money - eric_money\n",
    "\n",
    "#Lilly gives half her money to Eric\n",
    "lilly_money, eric_money = give(lilly_money, eric_money, lilly_money / 2.0)\n",
    "\n",
    "#Eric gives Rahul back the same amount he borrowed earlier\n",
    "eric_money, rahul_money = give(eric_money, rahul_money, 5.0)\n",
    "\n",
    "#How much money do Eric, Lilly, and Rahul have?\n",
    "print \"Eric has $\" + str(eric_money)\n",
    "print \"Lilly has $\" + str(lilly_money)\n",
    "print \"Rahul has $\" + str(rahul_money)"
   ]
  },
  {
   "cell_type": "markdown",
   "metadata": {
    "collapsed": true
   },
   "source": [
    "Because we used a <b>function</b>, we almost never have more than one line of code for each piece of our outline. Thanks to <b>functions</b>, our main code is much easier to read at a glance - almost like an outline itself.\n",
    "\n",
    "Now, let's look at a couple simpler examples of function calls to get a feel for the possibilities"
   ]
  },
  {
   "cell_type": "code",
   "execution_count": 19,
   "metadata": {
    "collapsed": true
   },
   "outputs": [],
   "source": [
    "def addThree(number):\n",
    "    print(\"\\naddThree:\")\n",
    "    return number + 3\n",
    "\n",
    "def sumNumbers(first, second):\n",
    "    print(\"\\nsumNumbers\")\n",
    "    return first + second\n",
    "\n",
    "def reverse(string):\n",
    "    print(\"\\nreverse\")\n",
    "    return string[::-1]\n",
    "\n",
    "def greet(name):\n",
    "    print(\"\\ngreet\")\n",
    "    print(\"Hello, \" + name)\n",
    "    return\n",
    "\n",
    "def swap(first, second):\n",
    "    print(\"\\nswap\")\n",
    "    return second, first\n",
    "\n",
    "def argue(truth):\n",
    "    print(\"\\nargue\")\n",
    "    return not truth"
   ]
  },
  {
   "cell_type": "code",
   "execution_count": 21,
   "metadata": {
    "collapsed": false
   },
   "outputs": [
    {
     "name": "stdout",
     "output_type": "stream",
     "text": [
      "\n",
      "addThree:\n",
      "8\n",
      "\n",
      "sumNumbers\n",
      "4\n",
      "\n",
      "reverse\n",
      "deeR\n",
      "\n",
      "greet\n",
      "Hello, Reed\n",
      "Reed\n",
      "\n",
      "swap\n",
      "First number is: 7\n",
      "Second number is: 3\n",
      "\n",
      "argue\n",
      "My belief is True\n"
     ]
    }
   ],
   "source": [
    "#the function addThree() takes one integer argument and returns one integer value\n",
    "#What happens if you don't store a function's return value in a variable? (scope)\n",
    "golden_rings = 5\n",
    "golden_rings = addThree(golden_rings)\n",
    "print(golden_rings)\n",
    "\n",
    "#the function sumNumbers takes two integer arguments and returns one integer value\n",
    "#This function demonstrates that something you want to create a new variable to store the\n",
    "#  result of a function rather than only modifying existing variables\n",
    "first_number = 2\n",
    "second_number = 2\n",
    "total = sumNumbers(first_number, second_number)\n",
    "print(total)\n",
    "\n",
    "#reverse() takes one string argument and returns one string value\n",
    "name = \"Reed\"\n",
    "name = reverse(name)\n",
    "print(name)\n",
    "\n",
    "#greet() takes one string argument and returns the value None\n",
    "#Every function has to return something and in python the default is None\n",
    "#You don't always need to store the return variable in a value, though\n",
    "name = \"Reed\"\n",
    "greet(name)\n",
    "print(name)\n",
    "\n",
    "#swap() takes two integer arguments and returns two integer arguments\n",
    "#Functions in python can return multiple variables\n",
    "first_number = 3\n",
    "second_number = 7\n",
    "first_number, second_number = swap(first_number, second_number)\n",
    "print(\"First number is: \" + str(first_number))\n",
    "print(\"Second number is: \" + str(second_number))\n",
    "\n",
    "#Functions can take any data type for input and output\n",
    "belief = False\n",
    "belief = argue(belief)\n",
    "print(\"My belief is \" + str(belief))"
   ]
  },
  {
   "cell_type": "code",
   "execution_count": null,
   "metadata": {
    "collapsed": true
   },
   "outputs": [],
   "source": []
  }
 ],
 "metadata": {
  "anaconda-cloud": {},
  "kernelspec": {
   "display_name": "Python [default]",
   "language": "python",
   "name": "python2"
  },
  "language_info": {
   "codemirror_mode": {
    "name": "ipython",
    "version": 2
   },
   "file_extension": ".py",
   "mimetype": "text/x-python",
   "name": "python",
   "nbconvert_exporter": "python",
   "pygments_lexer": "ipython2",
   "version": "2.7.12"
  }
 },
 "nbformat": 4,
 "nbformat_minor": 1
}
