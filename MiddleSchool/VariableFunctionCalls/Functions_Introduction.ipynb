{
 "cells": [
  {
   "cell_type": "markdown",
   "metadata": {},
   "source": [
    "# Functions"
   ]
  },
  {
   "cell_type": "markdown",
   "metadata": {},
   "source": [
    "> Eric has \\$5, Lilly has \\$13, and Rahul has \\$22. Rahul gives \\$2 to his friend, Ashley. Then, he lets Eric borrow all the money he has left. Eric spends all his money. Then, Lilly gives half her money to Eric. Eric gives Rahul back the same amount that he borrowed earlier. How much money do Eric, Lilly, and Rahul have?"
   ]
  },
  {
   "cell_type": "raw",
   "metadata": {},
   "source": [
    "Your solution to this problem probably looks something like this:"
   ]
  },
  {
   "cell_type": "code",
   "execution_count": 20,
   "metadata": {
    "collapsed": false
   },
   "outputs": [
    {
     "name": "stdout",
     "output_type": "stream",
     "text": [
      "Eric has $1.5\n",
      "Lilly has $6.5\n",
      "Rahul has $5.0\n"
     ]
    }
   ],
   "source": [
    "#Starting money\n",
    "eric_money = 5.0\n",
    "lilly_money = 13.0\n",
    "rahul_money = 7.0\n",
    "\n",
    "#Rahul gives $2 to Ashley\n",
    "rahul_to_ashley = 2.0\n",
    "rahul_money = rahul_money - rahul_to_ashley\n",
    "\n",
    "#Eric borrows all of Rahul's money\n",
    "rahul_to_eric = rahul_money\n",
    "rahul_money = rahul_money - rahul_to_eric\n",
    "eric_money = eric_money + rahul_to_eric\n",
    "\n",
    "#Eric spends all his money\n",
    "eric_money = eric_money - eric_money\n",
    "\n",
    "#Lilly gives half her money to Eric\n",
    "lilly_to_eric = lilly_money / 2.0\n",
    "lilly_money = lilly_money - lilly_to_eric\n",
    "eric_money = eric_money + lilly_to_eric\n",
    "\n",
    "#Eric gives Rahul back the same amount he borrowed earlier\n",
    "eric_to_rahul = rahul_to_eric\n",
    "eric_money = eric_money - eric_to_rahul\n",
    "rahul_money = rahul_money + eric_to_rahul\n",
    "\n",
    "#How much money do Eric, Lilly, and Rahul have?\n",
    "print \"Eric has $\" + str(eric_money)\n",
    "print \"Lilly has $\" + str(lilly_money)\n",
    "print \"Rahul has $\" + str(rahul_money)"
   ]
  },
  {
   "cell_type": "markdown",
   "metadata": {},
   "source": [
    "This is great and answers the question, but it's kind of a lot of code. We are going to use a <b>function</b> to simplify our code. While a <b>variable</b> allows you to reuse a value, a <b>function</b> allows you to reuse one or more lines of code. Below is an example function."
   ]
  },
  {
   "cell_type": "code",
   "execution_count": 18,
   "metadata": {
    "collapsed": true
   },
   "outputs": [],
   "source": [
    "def give(giver_amount, taker_amount, amount_to_give):\n",
    "    giver_amount = giver_amount - amount_to_give\n",
    "    taker_amount = taker_amount + amount_to_give\n",
    "    return giver_amount, taker_amount"
   ]
  },
  {
   "cell_type": "markdown",
   "metadata": {},
   "source": [
    "We aren't going to worry about how to make our own functions right now, but here is some language we will use to describe this function:\n",
    "\n",
    "1. The function is named <b>give</b>\n",
    "2. The function takes three <b>arguments</b>: giver_amount, taker_amount, and amount_to_give IN THAT ORDER\n",
    "3. The function returns two <b>values</b>: giver_amount and taker_amount IN THAT ORDER\n",
    "\n",
    "This tells us everything we need to know to use, or <b>call</b>, this function. We need to give it three pieces of information, or <b>arguments</b>, and it will gives us back two values. Below is an example."
   ]
  },
  {
   "cell_type": "code",
   "execution_count": 17,
   "metadata": {
    "collapsed": false
   },
   "outputs": [
    {
     "name": "stdout",
     "output_type": "stream",
     "text": [
      "Eric has $12.0\n",
      "Lilly has $10.0\n",
      "Something happened\n",
      "Eric has $5.5\n",
      "Lilly has $16.5\n"
     ]
    }
   ],
   "source": [
    "eric_money = 12.0\n",
    "lilly_money = 10.0\n",
    "print \"Eric has $\" + str(eric_money)\n",
    "print \"Lilly has $\" + str(lilly_money)\n",
    "\n",
    "print \"Something happened\"\n",
    "eric_money, lilly_money = give(eric_money, lilly_money, 6.5)\n",
    "\n",
    "print \"Eric has $\" + str(eric_money)\n",
    "print \"Lilly has $\" + str(lilly_money)"
   ]
  },
  {
   "cell_type": "markdown",
   "metadata": {},
   "source": [
    "<p>\n",
    "As we can see, Eric gave Lilly the $6.50 he borrowed from her in the last problem. More importantly, we made a <b>function call</b> to the give() function we wrote. Earlier, we only <b>defined</b> the <b>function</b> - that's what <b>def</b> means. It was not until the code that we just wrote that we <b>called</b> the <b>function</b> to use it.\n",
    "</p>\n",
    "<p>\n",
    "It is important that the <b>arguments</b> line up correctly. Eric is giving the money to Lilly, so eric_money in the <b>function call</b> needs to line up with giver_amount in the <b>function definition</b>. Similarly, lilly_money needs to line up with taker_amount. Otherwise, Lilly will give Eric the money instead!\n",
    "</p>\n",
    "<p>\n",
    "It is also just as important that we use the correct <b>variables</b> to store the values that the function returns. If you change <b>eric_money, lilly_money =</b> to <b>lilly_money, eric_money =</b> and run the code, what happens? The best description would be that Eric gave Lilly the money but then right before they left they switched wallets. This is because we returned values at the end of the function in a different order than we stored them in our main program. We took the contents of giver_amount and put it in lilly_money instead of eric_money after the flip.\n",
    "</p>"
   ]
  },
  {
   "cell_type": "markdown",
   "metadata": {},
   "source": [
    "In just a moment we will do an activity where you will be calling functions, but first here is the completed activity from before using our new <b>give</b> function. Notice how much easier it is to understand. Also notice that we can use <b>expressions</b> as well as <b>variables</b> for <b>function arguments</b>"
   ]
  },
  {
   "cell_type": "code",
   "execution_count": 19,
   "metadata": {
    "collapsed": false
   },
   "outputs": [
    {
     "name": "stdout",
     "output_type": "stream",
     "text": [
      "Eric has $1.5\n",
      "Lilly has $6.5\n",
      "Rahul has $5.0\n"
     ]
    }
   ],
   "source": [
    "#Starting money\n",
    "eric_money = 5.0\n",
    "lilly_money = 13.0\n",
    "rahul_money = 7.0\n",
    "ashley_money = 0.0\n",
    "\n",
    "#Rahul gives $2 to Ashley\n",
    "rahul_money, ashley_money = give(rahul_money, ashley_money, 2)\n",
    "\n",
    "#Eric borrows all of Rahul's money\n",
    "amount_borrowed = rahul_money #We need to know this value later\n",
    "rahul_money, eric_money = give(rahul_money, eric_money, amount_borrowed)\n",
    "\n",
    "#Eric spends all his money\n",
    "eric_money = eric_money - eric_money\n",
    "\n",
    "#Lilly gives half her money to Eric\n",
    "lilly_money, eric_money = give(lilly_money, eric_money, lilly_money / 2.0)\n",
    "\n",
    "#Eric gives Rahul back the same amount he borrowed earlier\n",
    "eric_money, rahul_money = give(eric_money, rahul_money, amount_borrowed)\n",
    "\n",
    "#How much money do Eric, Lilly, and Rahul have?\n",
    "print \"Eric has $\" + str(eric_money)\n",
    "print \"Lilly has $\" + str(lilly_money)\n",
    "print \"Rahul has $\" + str(rahul_money)"
   ]
  },
  {
   "cell_type": "code",
   "execution_count": null,
   "metadata": {
    "collapsed": true
   },
   "outputs": [],
   "source": []
  }
 ],
 "metadata": {
  "anaconda-cloud": {},
  "kernelspec": {
   "display_name": "Python [default]",
   "language": "python",
   "name": "python2"
  },
  "language_info": {
   "codemirror_mode": {
    "name": "ipython",
    "version": 2
   },
   "file_extension": ".py",
   "mimetype": "text/x-python",
   "name": "python",
   "nbconvert_exporter": "python",
   "pygments_lexer": "ipython2",
   "version": "2.7.12"
  }
 },
 "nbformat": 4,
 "nbformat_minor": 1
}
